{
 "cells": [
  {
   "cell_type": "code",
   "execution_count": 63,
   "metadata": {},
   "outputs": [],
   "source": [
    "# Get todays pdf URL\n",
    "import requests\n",
    "from bs4 import BeautifulSoup\n",
    "from datetime import datetime\n",
    "\n",
    "# Parse todays pdf URL\n",
    "import tabula # tabula-py\n",
    "\n",
    "# Plot the lanes\n",
    "import pandas as pd\n",
    "import plotly\n",
    "import plotly.express as px"
   ]
  },
  {
   "cell_type": "code",
   "execution_count": 129,
   "metadata": {},
   "outputs": [
    {
     "name": "stdout",
     "output_type": "stream",
     "text": [
      "57\n",
      "{'DIVE/LAP POOL MOANA': 1, 'MOANA DEEP 25M': 18, 'MOANA SHALLOW 25M': 33, 'OLD DIVE POOL': 46, 'LEARNERS POOL MOANA': 50, 'LEISURE POOL': 54}\n"
     ]
    }
   ],
   "source": [
    "pdf_path = \"https://www.dunedin.govt.nz/__data/assets/pdf_file/0008/982709/Tues-15th-Aug-2023.pdf\"\n",
    "\n",
    "dfs = tabula.read_pdf(  pdf_path, pages='all',pandas_options={'header': None}, multiple_tables=False, \n",
    "                        lattice=False, stream=True, guess=False) # stream or lattice...\n",
    "# read_pdf returns list of DataFrames\n",
    "# print(len(dfs)) \n",
    "# \n",
    "# print(day)\n",
    "day = dfs[0][0][0]\n",
    "\n",
    "dfs_d2 = tabula.read_pdf(   pdf_path, pages='all',pandas_options={'header': None}, multiple_tables=True, \n",
    "                            lattice=True, stream=False, guess=False) # stream or lattice...\n",
    "print(len(dfs[0]))\n",
    "\n",
    "name_indices = {}\n",
    "name_indices_2 = {}\n",
    "\n",
    "total = 2\n",
    "for i, tab in enumerate(dfs_d2):\n",
    "    if dfs[0][0][total+i-1] == day:\n",
    "        total += 1\n",
    "    name_indices[dfs[0][0][total+i-1]] = total+i-1\n",
    "    total += len(tab)\n",
    "\n",
    "print(name_indices)\n"
   ]
  }
 ],
 "metadata": {
  "kernelspec": {
   "display_name": "base",
   "language": "python",
   "name": "python3"
  },
  "language_info": {
   "codemirror_mode": {
    "name": "ipython",
    "version": 3
   },
   "file_extension": ".py",
   "mimetype": "text/x-python",
   "name": "python",
   "nbconvert_exporter": "python",
   "pygments_lexer": "ipython3",
   "version": "3.8.11"
  },
  "orig_nbformat": 4
 },
 "nbformat": 4,
 "nbformat_minor": 2
}
